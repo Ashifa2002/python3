{
 "cells": [
  {
   "cell_type": "code",
   "execution_count": 3,
   "id": "918a75c3-e1c3-4565-ab9e-936b4d8241fa",
   "metadata": {},
   "outputs": [],
   "source": [
    "from assignment5 import multiplefunctions"
   ]
  },
  {
   "cell_type": "code",
   "execution_count": 4,
   "id": "4c56ee0d-4862-4843-95d8-78d5230997ec",
   "metadata": {},
   "outputs": [
    {
     "name": "stdin",
     "output_type": "stream",
     "text": [
      "Enter the number: 677\n"
     ]
    },
    {
     "name": "stdout",
     "output_type": "stream",
     "text": [
      "677 is Odd Number\n"
     ]
    },
    {
     "data": {
      "text/plain": [
       "'Odd Number'"
      ]
     },
     "execution_count": 4,
     "metadata": {},
     "output_type": "execute_result"
    }
   ],
   "source": [
    "multiplefunctions.oddeven()"
   ]
  },
  {
   "cell_type": "code",
   "execution_count": 5,
   "id": "a03b76ea-9542-4d3d-a2bd-a59090a74a43",
   "metadata": {},
   "outputs": [
    {
     "name": "stdin",
     "output_type": "stream",
     "text": [
      "Your Gender= female\n",
      "Your Age= 22\n"
     ]
    },
    {
     "name": "stdout",
     "output_type": "stream",
     "text": [
      "Eligible\n"
     ]
    },
    {
     "data": {
      "text/plain": [
       "'Eligible'"
      ]
     },
     "execution_count": 5,
     "metadata": {},
     "output_type": "execute_result"
    }
   ],
   "source": [
    "multiplefunctions.eligiblity()"
   ]
  },
  {
   "cell_type": "code",
   "execution_count": 6,
   "id": "556b97c2-5763-47d9-bf76-d5a8cfaefefe",
   "metadata": {},
   "outputs": [
    {
     "name": "stdout",
     "output_type": "stream",
     "text": [
      "Sub-fields in AI are:\n",
      "Machine Learning\n",
      "Neural Networks\n",
      "Vision\n",
      "Robotics\n",
      "Speech Processing\n",
      "Natural Language Processing\n"
     ]
    }
   ],
   "source": [
    "multiplefunctions.subfields()\n"
   ]
  },
  {
   "cell_type": "code",
   "execution_count": 7,
   "id": "8dfc4c00-cab1-443d-a3fe-6701d5064679",
   "metadata": {},
   "outputs": [
    {
     "name": "stdin",
     "output_type": "stream",
     "text": [
      "Height= 32\n",
      "Breadth= 34\n"
     ]
    },
    {
     "name": "stdout",
     "output_type": "stream",
     "text": [
      "Area formula=(height*breadth)/2\n",
      "Area of triangle= 544.0\n"
     ]
    },
    {
     "name": "stdin",
     "output_type": "stream",
     "text": [
      "Height1= 2\n",
      "Height2= 4\n",
      "Breadth1= 4\n"
     ]
    },
    {
     "name": "stdout",
     "output_type": "stream",
     "text": [
      "Perimeter formula=Height1+Height2+Breadth1\n",
      "perimeter of triangle= 10\n"
     ]
    }
   ],
   "source": [
    "multiplefunctions.triangle()"
   ]
  },
  {
   "cell_type": "code",
   "execution_count": 8,
   "id": "feec08ff-3c6a-4692-bfb0-fa95f70edb8e",
   "metadata": {},
   "outputs": [
    {
     "name": "stdin",
     "output_type": "stream",
     "text": [
      "Subject1= 98\n",
      "subject2= 87\n",
      "Subject3= 95\n",
      "Subject4= 95\n",
      "Subject5= 93\n"
     ]
    },
    {
     "name": "stdout",
     "output_type": "stream",
     "text": [
      "Total: 468\n",
      "Percentage: 93.6\n"
     ]
    }
   ],
   "source": [
    "multiplefunctions.percentage()"
   ]
  },
  {
   "cell_type": "code",
   "execution_count": null,
   "id": "aa32285d-98c9-4540-b043-3c9678c4218c",
   "metadata": {},
   "outputs": [],
   "source": []
  }
 ],
 "metadata": {
  "kernelspec": {
   "display_name": "Python 3 (ipykernel)",
   "language": "python",
   "name": "python3"
  },
  "language_info": {
   "codemirror_mode": {
    "name": "ipython",
    "version": 3
   },
   "file_extension": ".py",
   "mimetype": "text/x-python",
   "name": "python",
   "nbconvert_exporter": "python",
   "pygments_lexer": "ipython3",
   "version": "3.12.4"
  }
 },
 "nbformat": 4,
 "nbformat_minor": 5
}
