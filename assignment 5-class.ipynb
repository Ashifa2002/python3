{
 "cells": [
  {
   "cell_type": "code",
   "execution_count": 4,
   "id": "4a9d64df-01fa-4a91-8ce5-1d87dfb32748",
   "metadata": {},
   "outputs": [],
   "source": [
    "#subfields' \n",
    "class subfieldsinAI():\n",
    "    def subfields():\n",
    "        print(\"Sub-fields in AI are:\")\n",
    "        list=[\"Machine Learning\",\"Neural Networks\",\"Vision\",\"Robotics\",\"Speech Processing\",\"Natural Language Processing\"]\n",
    "        for temp in list:\n",
    "             print(temp)\n"
   ]
  },
  {
   "cell_type": "code",
   "execution_count": 16,
   "id": "38418de6-f235-426e-9b08-f64ebd10f4d1",
   "metadata": {},
   "outputs": [
    {
     "name": "stdout",
     "output_type": "stream",
     "text": [
      "Sub-fields in AI are:\n",
      "Machine Learning\n",
      "Neural Networks\n",
      "Vision\n",
      "Robotics\n",
      "Speech Processing\n",
      "Natural Language Processing\n"
     ]
    }
   ],
   "source": [
    "subfieldsinAI.subfields()"
   ]
  },
  {
   "cell_type": "code",
   "execution_count": null,
   "id": "f7079c50-fde6-40b9-8774-ffb00d054c57",
   "metadata": {},
   "outputs": [],
   "source": [
    "#oddeven"
   ]
  },
  {
   "cell_type": "code",
   "execution_count": 7,
   "id": "dc4c6a3a-d901-4de5-a7be-310921e75334",
   "metadata": {},
   "outputs": [],
   "source": [
    "class oddeven():\n",
    "    def oddeven():\n",
    "        num=int(input(\"Enter the number:\"))\n",
    "        if(num%2==0):\n",
    "            print(num,\"is Even Number\")\n",
    "            msg=\"Even Number\"\n",
    "        else:\n",
    "            print(num,\"is Odd Number\")\n",
    "            msg=\"Odd Number\"\n",
    "        return msg\n",
    "        \n",
    "\n",
    "            "
   ]
  },
  {
   "cell_type": "code",
   "execution_count": 17,
   "id": "12329c31-70e8-4d2a-8191-064a518f3aaf",
   "metadata": {},
   "outputs": [
    {
     "name": "stdin",
     "output_type": "stream",
     "text": [
      "Enter the number: 52452\n"
     ]
    },
    {
     "name": "stdout",
     "output_type": "stream",
     "text": [
      "52452 is Even Number\n"
     ]
    },
    {
     "data": {
      "text/plain": [
       "'Even Number'"
      ]
     },
     "execution_count": 17,
     "metadata": {},
     "output_type": "execute_result"
    }
   ],
   "source": [
    "oddeven.oddeven()"
   ]
  },
  {
   "cell_type": "code",
   "execution_count": null,
   "id": "ee8a08e7-d445-47aa-a38b-8766db0f1d3c",
   "metadata": {},
   "outputs": [],
   "source": [
    "#percentage"
   ]
  },
  {
   "cell_type": "code",
   "execution_count": 19,
   "id": "2cde00e0-bb72-4a59-829d-239362ba77b0",
   "metadata": {},
   "outputs": [],
   "source": [
    "class findpercent():\n",
    "    def percentage():\n",
    "        sub1=int(input(\"Subject1=\"))\n",
    "        sub2=int(input(\"subject2=\"))\n",
    "        sub3=int(input(\"Subject3=\"))\n",
    "        sub4=int(input(\"Subject4=\"))\n",
    "        sub5=int(input(\"Subject5=\"))\n",
    "        total=sub1+sub2+sub3+sub4+sub5\n",
    "        print(\"Total:\",total)\n",
    "        percent=(total/5)\n",
    "        print(\"Percentage:\",percent)"
   ]
  },
  {
   "cell_type": "code",
   "execution_count": 20,
   "id": "923fbbfc-a7be-45e2-b781-323139184dbc",
   "metadata": {},
   "outputs": [
    {
     "name": "stdin",
     "output_type": "stream",
     "text": [
      "Subject1= 98\n",
      "subject2= 87\n",
      "Subject3= 95\n",
      "Subject4= 95\n",
      "Subject5= 93\n"
     ]
    },
    {
     "name": "stdout",
     "output_type": "stream",
     "text": [
      "Total: 468\n",
      "Percentage: 93.6\n"
     ]
    }
   ],
   "source": [
    "findpercent.percentage()"
   ]
  },
  {
   "cell_type": "code",
   "execution_count": null,
   "id": "646301d8-8a80-4a4d-8a0a-45681fd35b75",
   "metadata": {},
   "outputs": [],
   "source": [
    "#triangle"
   ]
  },
  {
   "cell_type": "code",
   "execution_count": 12,
   "id": "54b232dc-79ce-47b8-a7bf-35ee9870ffc4",
   "metadata": {},
   "outputs": [],
   "source": [
    "class triangle():\n",
    "    def triangle():\n",
    "        ht=int(input(\"Height=\"))\n",
    "        bth=int(input(\"Breadth=\"))\n",
    "        area=(ht*bth)/2\n",
    "        print(\"Area formula=(height*breadth)/2\")\n",
    "        print(\"Area of triangle=\",area)\n",
    "        ht1=int(input(\"Height1=\"))\n",
    "        ht2=int(input(\"Height2=\"))\n",
    "        bth1=int(input(\"Breadth1=\"))\n",
    "        perimeter=ht1+ht2+bth1\n",
    "        print(\"Perimeter formula=Height1+Height2+Breadth1\")\n",
    "        print(\"perimeter of triangle=\",perimeter)\n",
    "\n",
    "    "
   ]
  },
  {
   "cell_type": "code",
   "execution_count": 21,
   "id": "91a76fc5-fd14-4f83-857c-cefeac596b9f",
   "metadata": {},
   "outputs": [
    {
     "name": "stdin",
     "output_type": "stream",
     "text": [
      "Height= 32\n",
      "Breadth= 34\n"
     ]
    },
    {
     "name": "stdout",
     "output_type": "stream",
     "text": [
      "Area formula=(height*breadth)/2\n",
      "Area of triangle= 544.0\n"
     ]
    },
    {
     "name": "stdin",
     "output_type": "stream",
     "text": [
      "Height1= 2\n",
      "Height2= 4\n",
      "Breadth1= 4\n"
     ]
    },
    {
     "name": "stdout",
     "output_type": "stream",
     "text": [
      "Perimeter formula=Height1+Height2+Breadth1\n",
      "perimeter of triangle= 10\n"
     ]
    }
   ],
   "source": [
    "triangle.triangle()"
   ]
  },
  {
   "cell_type": "code",
   "execution_count": null,
   "id": "de22ba7d-bc73-4351-adef-1ef48c92d75b",
   "metadata": {},
   "outputs": [],
   "source": [
    "#eligiblity"
   ]
  },
  {
   "cell_type": "code",
   "execution_count": 22,
   "id": "ff9ad322-a337-4896-bb9e-e6cf753ac6ea",
   "metadata": {},
   "outputs": [],
   "source": [
    "class eligiblityformarriage():\n",
    "    def eligiblity():\n",
    "        gender=input(\"Your Gender=\")\n",
    "        age=int(input(\"Your Age=\"))\n",
    "        if(gender==\"male\" and age>=21) or (gender==\"female\" and age>=18):\n",
    "            print(\"Eligible\")\n",
    "            msg=\"Eligible\"\n",
    "        else:\n",
    "            print(\"Not Eligible\")\n",
    "            msg=\"Not Eligible\"\n",
    "        return msg\n",
    "\n"
   ]
  },
  {
   "cell_type": "code",
   "execution_count": 23,
   "id": "612d2dfb-538b-4c9c-9ed7-e9b7ed59f12b",
   "metadata": {},
   "outputs": [
    {
     "name": "stdin",
     "output_type": "stream",
     "text": [
      "Your Gender= male\n",
      "Your Age= 18\n"
     ]
    },
    {
     "name": "stdout",
     "output_type": "stream",
     "text": [
      "Not Eligible\n"
     ]
    },
    {
     "data": {
      "text/plain": [
       "'Not Eligible'"
      ]
     },
     "execution_count": 23,
     "metadata": {},
     "output_type": "execute_result"
    }
   ],
   "source": [
    "eligiblityformarriage.eligiblity()"
   ]
  },
  {
   "cell_type": "code",
   "execution_count": null,
   "id": "45a9a8d6-e3ba-421b-98b0-bc4dd0e079d4",
   "metadata": {},
   "outputs": [],
   "source": []
  }
 ],
 "metadata": {
  "kernelspec": {
   "display_name": "Python 3 (ipykernel)",
   "language": "python",
   "name": "python3"
  },
  "language_info": {
   "codemirror_mode": {
    "name": "ipython",
    "version": 3
   },
   "file_extension": ".py",
   "mimetype": "text/x-python",
   "name": "python",
   "nbconvert_exporter": "python",
   "pygments_lexer": "ipython3",
   "version": "3.12.4"
  }
 },
 "nbformat": 4,
 "nbformat_minor": 5
}
